{
 "cells": [
  {
   "cell_type": "code",
   "execution_count": 113,
   "metadata": {},
   "outputs": [
    {
     "data": {
      "text/html": [
       "<div>\n",
       "<style scoped>\n",
       "    .dataframe tbody tr th:only-of-type {\n",
       "        vertical-align: middle;\n",
       "    }\n",
       "\n",
       "    .dataframe tbody tr th {\n",
       "        vertical-align: top;\n",
       "    }\n",
       "\n",
       "    .dataframe thead th {\n",
       "        text-align: right;\n",
       "    }\n",
       "</style>\n",
       "<table border=\"1\" class=\"dataframe\">\n",
       "  <thead>\n",
       "    <tr style=\"text-align: right;\">\n",
       "      <th></th>\n",
       "      <th>NUMERO_INCIDENTE</th>\n",
       "      <th>FECHA_INICIO_DESPLAZAMIENTO_MOVIL</th>\n",
       "      <th>CODIGO_LOCALIDAD</th>\n",
       "      <th>LOCALIDAD</th>\n",
       "      <th>EDAD</th>\n",
       "      <th>UNIDAD</th>\n",
       "      <th>GENERO</th>\n",
       "      <th>RED</th>\n",
       "      <th>TIPO_INCIDENTE</th>\n",
       "      <th>PRIORIDAD</th>\n",
       "      <th>RECEPCION</th>\n",
       "    </tr>\n",
       "  </thead>\n",
       "  <tbody>\n",
       "    <tr>\n",
       "      <th>0</th>\n",
       "      <td>CRU-00278353-22</td>\n",
       "      <td>2022-07-01 00:08:59</td>\n",
       "      <td>11</td>\n",
       "      <td>Suba</td>\n",
       "      <td>88</td>\n",
       "      <td>A¤os</td>\n",
       "      <td>FEMENINO</td>\n",
       "      <td>Norte</td>\n",
       "      <td>Accidente Cerebro Vascular</td>\n",
       "      <td>ALTA</td>\n",
       "      <td>2022-07-01 03:40:13</td>\n",
       "    </tr>\n",
       "    <tr>\n",
       "      <th>1</th>\n",
       "      <td>CRU-00278360-22</td>\n",
       "      <td>2022-07-01 00:14:58</td>\n",
       "      <td>11</td>\n",
       "      <td>Suba</td>\n",
       "      <td>16</td>\n",
       "      <td>A¤os</td>\n",
       "      <td>MASCULINO</td>\n",
       "      <td>Norte</td>\n",
       "      <td>Herido</td>\n",
       "      <td>ALTA</td>\n",
       "      <td>2022-07-01 03:38:13</td>\n",
       "    </tr>\n",
       "    <tr>\n",
       "      <th>2</th>\n",
       "      <td>CRU-00278365-22</td>\n",
       "      <td>2022-07-01 00:21:59</td>\n",
       "      <td>18</td>\n",
       "      <td>Rafael Uribe Uribe</td>\n",
       "      <td>52</td>\n",
       "      <td>A¤os</td>\n",
       "      <td>FEMENINO</td>\n",
       "      <td>Centro Oriente</td>\n",
       "      <td>Evento Respiratorio</td>\n",
       "      <td>CRITICA</td>\n",
       "      <td>2022-07-01 04:08:24</td>\n",
       "    </tr>\n",
       "  </tbody>\n",
       "</table>\n",
       "</div>"
      ],
      "text/plain": [
       "  NUMERO_INCIDENTE FECHA_INICIO_DESPLAZAMIENTO_MOVIL  CODIGO_LOCALIDAD  \\\n",
       "0  CRU-00278353-22               2022-07-01 00:08:59                11   \n",
       "1  CRU-00278360-22               2022-07-01 00:14:58                11   \n",
       "2  CRU-00278365-22               2022-07-01 00:21:59                18   \n",
       "\n",
       "            LOCALIDAD EDAD UNIDAD     GENERO             RED  \\\n",
       "0                Suba   88   A¤os   FEMENINO           Norte   \n",
       "1                Suba   16   A¤os  MASCULINO           Norte   \n",
       "2  Rafael Uribe Uribe   52   A¤os   FEMENINO  Centro Oriente   \n",
       "\n",
       "               TIPO_INCIDENTE PRIORIDAD            RECEPCION  \n",
       "0  Accidente Cerebro Vascular      ALTA  2022-07-01 03:40:13  \n",
       "1                      Herido      ALTA  2022-07-01 03:38:13  \n",
       "2         Evento Respiratorio   CRITICA  2022-07-01 04:08:24  "
      ]
     },
     "execution_count": 113,
     "metadata": {},
     "output_type": "execute_result"
    }
   ],
   "source": [
    "# importar librerias de manipulacion de datos\n",
    "import numpy as np \n",
    "import pandas as pd\n",
    "from dateutil.parser import parse\n",
    "\n",
    "# importar librerias del sistema\n",
    "import os\n",
    "from pathlib import Path\n",
    "\n",
    "root_dir = Path(\".\").resolve().parent\n",
    "\n",
    "filename = \"llamadas123_julio_2022.csv\"\n",
    "data_dir = \"raw\"\n",
    "\n",
    "file_path = os.path.join(root_dir, \"data\", data_dir, filename)\n",
    "\n",
    "data = pd.read_csv(file_path, encoding= \"latin-1\", sep = \";\")\n",
    "\n",
    "data.head(3)"
   ]
  },
  {
   "cell_type": "markdown",
   "metadata": {},
   "source": [
    "# LIMPIENZA DE DUPLICADOS"
   ]
  },
  {
   "cell_type": "code",
   "execution_count": 114,
   "metadata": {},
   "outputs": [
    {
     "name": "stdout",
     "output_type": "stream",
     "text": [
      "Forma inicial (13055, 11)\n",
      "Forma final (13026, 11)\n"
     ]
    }
   ],
   "source": [
    "#Primero hacemos la limpieza de los duplicados\n",
    "\n",
    "print(\"Forma inicial\", data.shape)\n",
    "\n",
    "data = data.drop_duplicates() #Elimina los registros duplicados, dejando solo el primer registro\n",
    "\n",
    "print(\"Forma final\", data.shape)"
   ]
  },
  {
   "cell_type": "markdown",
   "metadata": {},
   "source": [
    "# CONOCER ESTRUCTURA DE LA TABLA Y DATOS"
   ]
  },
  {
   "cell_type": "code",
   "execution_count": 115,
   "metadata": {},
   "outputs": [
    {
     "name": "stdout",
     "output_type": "stream",
     "text": [
      "<class 'pandas.core.frame.DataFrame'>\n",
      "Int64Index: 13026 entries, 0 to 13054\n",
      "Data columns (total 11 columns):\n",
      " #   Column                             Non-Null Count  Dtype \n",
      "---  ------                             --------------  ----- \n",
      " 0   NUMERO_INCIDENTE                   13026 non-null  object\n",
      " 1   FECHA_INICIO_DESPLAZAMIENTO_MOVIL  13026 non-null  object\n",
      " 2   CODIGO_LOCALIDAD                   13026 non-null  int64 \n",
      " 3   LOCALIDAD                          13026 non-null  object\n",
      " 4   EDAD                               13026 non-null  object\n",
      " 5   UNIDAD                             13018 non-null  object\n",
      " 6   GENERO                             13026 non-null  object\n",
      " 7   RED                                13026 non-null  object\n",
      " 8   TIPO_INCIDENTE                     13026 non-null  object\n",
      " 9   PRIORIDAD                          13026 non-null  object\n",
      " 10  RECEPCION                          13026 non-null  object\n",
      "dtypes: int64(1), object(10)\n",
      "memory usage: 1.2+ MB\n"
     ]
    }
   ],
   "source": [
    "# Esquema de la tabla para conocer tipos de datos y cantidad de nulos\n",
    "\n",
    "data.info()"
   ]
  },
  {
   "cell_type": "markdown",
   "metadata": {},
   "source": [
    "# LIMPIEZA DE LA COLUMNA UNIDAD"
   ]
  },
  {
   "cell_type": "code",
   "execution_count": 116,
   "metadata": {},
   "outputs": [
    {
     "data": {
      "text/plain": [
       "A¤os        6781\n",
       "SIN_DATO    6187\n",
       "Meses         39\n",
       "NaN            8\n",
       "Horas          6\n",
       "Dias           5\n",
       "Name: UNIDAD, dtype: int64"
      ]
     },
     "execution_count": 116,
     "metadata": {},
     "output_type": "execute_result"
    }
   ],
   "source": [
    "#Vamos a conocer cuantos nulos tenemos y los reemplazamos por un valor, en este caso \"SIN_DATO\"\n",
    "\n",
    "data[\"UNIDAD\"].value_counts(dropna=False) #Realiza el conteo sin eliminar los nulos\n"
   ]
  },
  {
   "cell_type": "code",
   "execution_count": 117,
   "metadata": {},
   "outputs": [
    {
     "data": {
      "text/plain": [
       "A¤os        6781\n",
       "SIN_DATO    6195\n",
       "Meses         39\n",
       "Horas          6\n",
       "Dias           5\n",
       "Name: UNIDAD, dtype: int64"
      ]
     },
     "execution_count": 117,
     "metadata": {},
     "output_type": "execute_result"
    }
   ],
   "source": [
    "data[\"UNIDAD\"].fillna(\"SIN_DATO\").value_counts(dropna=False)"
   ]
  },
  {
   "cell_type": "code",
   "execution_count": 118,
   "metadata": {},
   "outputs": [
    {
     "name": "stdout",
     "output_type": "stream",
     "text": [
      "<class 'pandas.core.frame.DataFrame'>\n",
      "Int64Index: 13026 entries, 0 to 13054\n",
      "Data columns (total 11 columns):\n",
      " #   Column                             Non-Null Count  Dtype \n",
      "---  ------                             --------------  ----- \n",
      " 0   NUMERO_INCIDENTE                   13026 non-null  object\n",
      " 1   FECHA_INICIO_DESPLAZAMIENTO_MOVIL  13026 non-null  object\n",
      " 2   CODIGO_LOCALIDAD                   13026 non-null  int64 \n",
      " 3   LOCALIDAD                          13026 non-null  object\n",
      " 4   EDAD                               13026 non-null  object\n",
      " 5   UNIDAD                             13026 non-null  object\n",
      " 6   GENERO                             13026 non-null  object\n",
      " 7   RED                                13026 non-null  object\n",
      " 8   TIPO_INCIDENTE                     13026 non-null  object\n",
      " 9   PRIORIDAD                          13026 non-null  object\n",
      " 10  RECEPCION                          13026 non-null  object\n",
      "dtypes: int64(1), object(10)\n",
      "memory usage: 1.2+ MB\n"
     ]
    }
   ],
   "source": [
    "# Sobreeescribo la columna UNIDAD que tenia valores nulos por una columna sin nulos\n",
    "data[\"UNIDAD\"] = data[\"UNIDAD\"].fillna(\"SIN_DATO\")\n",
    "\n",
    "data.info()"
   ]
  },
  {
   "cell_type": "markdown",
   "metadata": {},
   "source": [
    "# LIMPIEAZA DE LA COLUMNA FECHA_INICIO_DESPLAZAMIENTO_MOVIL"
   ]
  },
  {
   "cell_type": "code",
   "execution_count": 119,
   "metadata": {},
   "outputs": [
    {
     "name": "stdout",
     "output_type": "stream",
     "text": [
      "<class 'pandas.core.frame.DataFrame'>\n",
      "Int64Index: 13026 entries, 0 to 13054\n",
      "Data columns (total 11 columns):\n",
      " #   Column                             Non-Null Count  Dtype         \n",
      "---  ------                             --------------  -----         \n",
      " 0   NUMERO_INCIDENTE                   13026 non-null  object        \n",
      " 1   FECHA_INICIO_DESPLAZAMIENTO_MOVIL  13025 non-null  datetime64[ns]\n",
      " 2   CODIGO_LOCALIDAD                   13026 non-null  int64         \n",
      " 3   LOCALIDAD                          13026 non-null  object        \n",
      " 4   EDAD                               13026 non-null  object        \n",
      " 5   UNIDAD                             13026 non-null  object        \n",
      " 6   GENERO                             13026 non-null  object        \n",
      " 7   RED                                13026 non-null  object        \n",
      " 8   TIPO_INCIDENTE                     13026 non-null  object        \n",
      " 9   PRIORIDAD                          13026 non-null  object        \n",
      " 10  RECEPCION                          13026 non-null  object        \n",
      "dtypes: datetime64[ns](1), int64(1), object(9)\n",
      "memory usage: 1.2+ MB\n"
     ]
    }
   ],
   "source": [
    "# Convertir columna en formato fecha\n",
    "\n",
    "col = \"FECHA_INICIO_DESPLAZAMIENTO_MOVIL\"\n",
    "\n",
    "data[col] = pd.to_datetime(data[col], errors = \"coerce\")\n",
    "\n",
    "data.info()"
   ]
  },
  {
   "cell_type": "markdown",
   "metadata": {},
   "source": [
    "# LIMPIEZA DE LA COLUMNA RECEPCION"
   ]
  },
  {
   "cell_type": "code",
   "execution_count": 120,
   "metadata": {},
   "outputs": [],
   "source": [
    "#Reiniciamos el indiced e nuestra tabla y creo una funcion que me permitira convertir los formatos a fechas\n",
    "data = data.reset_index()\n",
    "\n",
    "def convertir_formato_fecha(str_fecha):\n",
    "    val_datetime = parse(str_fecha, dayfirst = True)\n",
    "    return val_datetime"
   ]
  },
  {
   "cell_type": "code",
   "execution_count": 121,
   "metadata": {},
   "outputs": [
    {
     "data": {
      "text/html": [
       "<div>\n",
       "<style scoped>\n",
       "    .dataframe tbody tr th:only-of-type {\n",
       "        vertical-align: middle;\n",
       "    }\n",
       "\n",
       "    .dataframe tbody tr th {\n",
       "        vertical-align: top;\n",
       "    }\n",
       "\n",
       "    .dataframe thead th {\n",
       "        text-align: right;\n",
       "    }\n",
       "</style>\n",
       "<table border=\"1\" class=\"dataframe\">\n",
       "  <thead>\n",
       "    <tr style=\"text-align: right;\">\n",
       "      <th></th>\n",
       "      <th>index</th>\n",
       "      <th>NUMERO_INCIDENTE</th>\n",
       "      <th>FECHA_INICIO_DESPLAZAMIENTO_MOVIL</th>\n",
       "      <th>CODIGO_LOCALIDAD</th>\n",
       "      <th>LOCALIDAD</th>\n",
       "      <th>EDAD</th>\n",
       "      <th>UNIDAD</th>\n",
       "      <th>GENERO</th>\n",
       "      <th>RED</th>\n",
       "      <th>TIPO_INCIDENTE</th>\n",
       "      <th>PRIORIDAD</th>\n",
       "      <th>RECEPCION</th>\n",
       "      <th>RECEPCION_CORREGIDA</th>\n",
       "    </tr>\n",
       "  </thead>\n",
       "  <tbody>\n",
       "    <tr>\n",
       "      <th>0</th>\n",
       "      <td>0</td>\n",
       "      <td>CRU-00278353-22</td>\n",
       "      <td>2022-07-01 00:08:59</td>\n",
       "      <td>11</td>\n",
       "      <td>Suba</td>\n",
       "      <td>88</td>\n",
       "      <td>A¤os</td>\n",
       "      <td>FEMENINO</td>\n",
       "      <td>Norte</td>\n",
       "      <td>Accidente Cerebro Vascular</td>\n",
       "      <td>ALTA</td>\n",
       "      <td>2022-07-01 03:40:13</td>\n",
       "      <td>2022-01-07 03:40:13</td>\n",
       "    </tr>\n",
       "    <tr>\n",
       "      <th>1</th>\n",
       "      <td>1</td>\n",
       "      <td>CRU-00278360-22</td>\n",
       "      <td>2022-07-01 00:14:58</td>\n",
       "      <td>11</td>\n",
       "      <td>Suba</td>\n",
       "      <td>16</td>\n",
       "      <td>A¤os</td>\n",
       "      <td>MASCULINO</td>\n",
       "      <td>Norte</td>\n",
       "      <td>Herido</td>\n",
       "      <td>ALTA</td>\n",
       "      <td>2022-07-01 03:38:13</td>\n",
       "      <td>2022-01-07 03:38:13</td>\n",
       "    </tr>\n",
       "    <tr>\n",
       "      <th>2</th>\n",
       "      <td>2</td>\n",
       "      <td>CRU-00278365-22</td>\n",
       "      <td>2022-07-01 00:21:59</td>\n",
       "      <td>18</td>\n",
       "      <td>Rafael Uribe Uribe</td>\n",
       "      <td>52</td>\n",
       "      <td>A¤os</td>\n",
       "      <td>FEMENINO</td>\n",
       "      <td>Centro Oriente</td>\n",
       "      <td>Evento Respiratorio</td>\n",
       "      <td>CRITICA</td>\n",
       "      <td>2022-07-01 04:08:24</td>\n",
       "      <td>2022-01-07 04:08:24</td>\n",
       "    </tr>\n",
       "    <tr>\n",
       "      <th>3</th>\n",
       "      <td>3</td>\n",
       "      <td>CRU-00278370-22</td>\n",
       "      <td>2022-07-01 00:38:38</td>\n",
       "      <td>19</td>\n",
       "      <td>Ciudad Bol¡var</td>\n",
       "      <td>SIN_DATO</td>\n",
       "      <td>SIN_DATO</td>\n",
       "      <td>SIN_DATO</td>\n",
       "      <td>Privada</td>\n",
       "      <td>Herido</td>\n",
       "      <td>ALTA</td>\n",
       "      <td>0000-00-00 00:00:00</td>\n",
       "      <td>0000-00-00 00:00:00</td>\n",
       "    </tr>\n",
       "    <tr>\n",
       "      <th>4</th>\n",
       "      <td>4</td>\n",
       "      <td>CRU-00278372-22</td>\n",
       "      <td>2022-07-01 00:53:32</td>\n",
       "      <td>1</td>\n",
       "      <td>Usaqun</td>\n",
       "      <td>33</td>\n",
       "      <td>A¤os</td>\n",
       "      <td>MASCULINO</td>\n",
       "      <td>Norte</td>\n",
       "      <td>Intento de Suicidio</td>\n",
       "      <td>ALTA</td>\n",
       "      <td>2022-07-01 03:25:29</td>\n",
       "      <td>2022-01-07 03:25:29</td>\n",
       "    </tr>\n",
       "  </tbody>\n",
       "</table>\n",
       "</div>"
      ],
      "text/plain": [
       "   index NUMERO_INCIDENTE FECHA_INICIO_DESPLAZAMIENTO_MOVIL  CODIGO_LOCALIDAD  \\\n",
       "0      0  CRU-00278353-22               2022-07-01 00:08:59                11   \n",
       "1      1  CRU-00278360-22               2022-07-01 00:14:58                11   \n",
       "2      2  CRU-00278365-22               2022-07-01 00:21:59                18   \n",
       "3      3  CRU-00278370-22               2022-07-01 00:38:38                19   \n",
       "4      4  CRU-00278372-22               2022-07-01 00:53:32                 1   \n",
       "\n",
       "            LOCALIDAD      EDAD    UNIDAD     GENERO             RED  \\\n",
       "0                Suba        88      A¤os   FEMENINO           Norte   \n",
       "1                Suba        16      A¤os  MASCULINO           Norte   \n",
       "2  Rafael Uribe Uribe        52      A¤os   FEMENINO  Centro Oriente   \n",
       "3      Ciudad Bol¡var  SIN_DATO  SIN_DATO   SIN_DATO         Privada   \n",
       "4             Usaqun        33      A¤os  MASCULINO           Norte   \n",
       "\n",
       "               TIPO_INCIDENTE PRIORIDAD            RECEPCION  \\\n",
       "0  Accidente Cerebro Vascular      ALTA  2022-07-01 03:40:13   \n",
       "1                      Herido      ALTA  2022-07-01 03:38:13   \n",
       "2         Evento Respiratorio   CRITICA  2022-07-01 04:08:24   \n",
       "3                      Herido      ALTA  0000-00-00 00:00:00   \n",
       "4         Intento de Suicidio      ALTA  2022-07-01 03:25:29   \n",
       "\n",
       "   RECEPCION_CORREGIDA  \n",
       "0  2022-01-07 03:40:13  \n",
       "1  2022-01-07 03:38:13  \n",
       "2  2022-01-07 04:08:24  \n",
       "3  0000-00-00 00:00:00  \n",
       "4  2022-01-07 03:25:29  "
      ]
     },
     "execution_count": 121,
     "metadata": {},
     "output_type": "execute_result"
    }
   ],
   "source": [
    "# Ejecuto un ciclo que me permita hacer el cambio de fechas y crearlo en una nueva lista\n",
    "\n",
    "list_fechas = list()\n",
    "n_filas = data.shape[0]\n",
    "for i in range(0, n_filas):\n",
    "    \n",
    "    str_fecha = data[\"RECEPCION\"][i]\n",
    "\n",
    "    try:\n",
    "        val_datetime = convertir_formato_fecha(str_fecha= str_fecha)\n",
    "        list_fechas.append(val_datetime)\n",
    "    except Exception as e:\n",
    "        list_fechas.append(str_fecha)\n",
    "        continue\n",
    "\n",
    "data[\"RECEPCION_CORREGIDA\"] = list_fechas \n",
    "\n",
    "data.head(5)"
   ]
  },
  {
   "cell_type": "code",
   "execution_count": 122,
   "metadata": {},
   "outputs": [
    {
     "data": {
      "text/html": [
       "<div>\n",
       "<style scoped>\n",
       "    .dataframe tbody tr th:only-of-type {\n",
       "        vertical-align: middle;\n",
       "    }\n",
       "\n",
       "    .dataframe tbody tr th {\n",
       "        vertical-align: top;\n",
       "    }\n",
       "\n",
       "    .dataframe thead th {\n",
       "        text-align: right;\n",
       "    }\n",
       "</style>\n",
       "<table border=\"1\" class=\"dataframe\">\n",
       "  <thead>\n",
       "    <tr style=\"text-align: right;\">\n",
       "      <th></th>\n",
       "      <th>index</th>\n",
       "      <th>NUMERO_INCIDENTE</th>\n",
       "      <th>FECHA_INICIO_DESPLAZAMIENTO_MOVIL</th>\n",
       "      <th>CODIGO_LOCALIDAD</th>\n",
       "      <th>LOCALIDAD</th>\n",
       "      <th>EDAD</th>\n",
       "      <th>UNIDAD</th>\n",
       "      <th>GENERO</th>\n",
       "      <th>RED</th>\n",
       "      <th>TIPO_INCIDENTE</th>\n",
       "      <th>PRIORIDAD</th>\n",
       "      <th>RECEPCION</th>\n",
       "      <th>RECEPCION_CORREGIDA</th>\n",
       "    </tr>\n",
       "  </thead>\n",
       "  <tbody>\n",
       "    <tr>\n",
       "      <th>0</th>\n",
       "      <td>0</td>\n",
       "      <td>CRU-00278353-22</td>\n",
       "      <td>2022-07-01 00:08:59</td>\n",
       "      <td>11</td>\n",
       "      <td>Suba</td>\n",
       "      <td>88</td>\n",
       "      <td>A¤os</td>\n",
       "      <td>FEMENINO</td>\n",
       "      <td>Norte</td>\n",
       "      <td>Accidente Cerebro Vascular</td>\n",
       "      <td>ALTA</td>\n",
       "      <td>2022-01-07 03:40:13</td>\n",
       "      <td>2022-01-07 03:40:13</td>\n",
       "    </tr>\n",
       "    <tr>\n",
       "      <th>1</th>\n",
       "      <td>1</td>\n",
       "      <td>CRU-00278360-22</td>\n",
       "      <td>2022-07-01 00:14:58</td>\n",
       "      <td>11</td>\n",
       "      <td>Suba</td>\n",
       "      <td>16</td>\n",
       "      <td>A¤os</td>\n",
       "      <td>MASCULINO</td>\n",
       "      <td>Norte</td>\n",
       "      <td>Herido</td>\n",
       "      <td>ALTA</td>\n",
       "      <td>2022-01-07 03:38:13</td>\n",
       "      <td>2022-01-07 03:38:13</td>\n",
       "    </tr>\n",
       "    <tr>\n",
       "      <th>2</th>\n",
       "      <td>2</td>\n",
       "      <td>CRU-00278365-22</td>\n",
       "      <td>2022-07-01 00:21:59</td>\n",
       "      <td>18</td>\n",
       "      <td>Rafael Uribe Uribe</td>\n",
       "      <td>52</td>\n",
       "      <td>A¤os</td>\n",
       "      <td>FEMENINO</td>\n",
       "      <td>Centro Oriente</td>\n",
       "      <td>Evento Respiratorio</td>\n",
       "      <td>CRITICA</td>\n",
       "      <td>2022-01-07 04:08:24</td>\n",
       "      <td>2022-01-07 04:08:24</td>\n",
       "    </tr>\n",
       "    <tr>\n",
       "      <th>3</th>\n",
       "      <td>3</td>\n",
       "      <td>CRU-00278370-22</td>\n",
       "      <td>2022-07-01 00:38:38</td>\n",
       "      <td>19</td>\n",
       "      <td>Ciudad Bol¡var</td>\n",
       "      <td>SIN_DATO</td>\n",
       "      <td>SIN_DATO</td>\n",
       "      <td>SIN_DATO</td>\n",
       "      <td>Privada</td>\n",
       "      <td>Herido</td>\n",
       "      <td>ALTA</td>\n",
       "      <td>NaT</td>\n",
       "      <td>NaT</td>\n",
       "    </tr>\n",
       "    <tr>\n",
       "      <th>4</th>\n",
       "      <td>4</td>\n",
       "      <td>CRU-00278372-22</td>\n",
       "      <td>2022-07-01 00:53:32</td>\n",
       "      <td>1</td>\n",
       "      <td>Usaqun</td>\n",
       "      <td>33</td>\n",
       "      <td>A¤os</td>\n",
       "      <td>MASCULINO</td>\n",
       "      <td>Norte</td>\n",
       "      <td>Intento de Suicidio</td>\n",
       "      <td>ALTA</td>\n",
       "      <td>2022-01-07 03:25:29</td>\n",
       "      <td>2022-01-07 03:25:29</td>\n",
       "    </tr>\n",
       "  </tbody>\n",
       "</table>\n",
       "</div>"
      ],
      "text/plain": [
       "   index NUMERO_INCIDENTE FECHA_INICIO_DESPLAZAMIENTO_MOVIL  CODIGO_LOCALIDAD  \\\n",
       "0      0  CRU-00278353-22               2022-07-01 00:08:59                11   \n",
       "1      1  CRU-00278360-22               2022-07-01 00:14:58                11   \n",
       "2      2  CRU-00278365-22               2022-07-01 00:21:59                18   \n",
       "3      3  CRU-00278370-22               2022-07-01 00:38:38                19   \n",
       "4      4  CRU-00278372-22               2022-07-01 00:53:32                 1   \n",
       "\n",
       "            LOCALIDAD      EDAD    UNIDAD     GENERO             RED  \\\n",
       "0                Suba        88      A¤os   FEMENINO           Norte   \n",
       "1                Suba        16      A¤os  MASCULINO           Norte   \n",
       "2  Rafael Uribe Uribe        52      A¤os   FEMENINO  Centro Oriente   \n",
       "3      Ciudad Bol¡var  SIN_DATO  SIN_DATO   SIN_DATO         Privada   \n",
       "4             Usaqun        33      A¤os  MASCULINO           Norte   \n",
       "\n",
       "               TIPO_INCIDENTE PRIORIDAD           RECEPCION  \\\n",
       "0  Accidente Cerebro Vascular      ALTA 2022-01-07 03:40:13   \n",
       "1                      Herido      ALTA 2022-01-07 03:38:13   \n",
       "2         Evento Respiratorio   CRITICA 2022-01-07 04:08:24   \n",
       "3                      Herido      ALTA                 NaT   \n",
       "4         Intento de Suicidio      ALTA 2022-01-07 03:25:29   \n",
       "\n",
       "  RECEPCION_CORREGIDA  \n",
       "0 2022-01-07 03:40:13  \n",
       "1 2022-01-07 03:38:13  \n",
       "2 2022-01-07 04:08:24  \n",
       "3                 NaT  \n",
       "4 2022-01-07 03:25:29  "
      ]
     },
     "execution_count": 122,
     "metadata": {},
     "output_type": "execute_result"
    }
   ],
   "source": [
    "# Convierto la columna creada a formato fecha y luego reemplazo la columna original\n",
    "data[\"RECEPCION_CORREGIDA\"] = pd.to_datetime(data[\"RECEPCION_CORREGIDA\"], errors = \"coerce\")\n",
    "\n",
    "data[\"RECEPCION\"] = data[\"RECEPCION_CORREGIDA\"]\n",
    "\n",
    "data.head(5)\n"
   ]
  },
  {
   "cell_type": "code",
   "execution_count": 123,
   "metadata": {},
   "outputs": [
    {
     "data": {
      "text/html": [
       "<div>\n",
       "<style scoped>\n",
       "    .dataframe tbody tr th:only-of-type {\n",
       "        vertical-align: middle;\n",
       "    }\n",
       "\n",
       "    .dataframe tbody tr th {\n",
       "        vertical-align: top;\n",
       "    }\n",
       "\n",
       "    .dataframe thead th {\n",
       "        text-align: right;\n",
       "    }\n",
       "</style>\n",
       "<table border=\"1\" class=\"dataframe\">\n",
       "  <thead>\n",
       "    <tr style=\"text-align: right;\">\n",
       "      <th></th>\n",
       "      <th>index</th>\n",
       "      <th>NUMERO_INCIDENTE</th>\n",
       "      <th>FECHA_INICIO_DESPLAZAMIENTO_MOVIL</th>\n",
       "      <th>CODIGO_LOCALIDAD</th>\n",
       "      <th>LOCALIDAD</th>\n",
       "      <th>EDAD</th>\n",
       "      <th>UNIDAD</th>\n",
       "      <th>GENERO</th>\n",
       "      <th>RED</th>\n",
       "      <th>TIPO_INCIDENTE</th>\n",
       "      <th>PRIORIDAD</th>\n",
       "      <th>RECEPCION</th>\n",
       "    </tr>\n",
       "  </thead>\n",
       "  <tbody>\n",
       "    <tr>\n",
       "      <th>0</th>\n",
       "      <td>0</td>\n",
       "      <td>CRU-00278353-22</td>\n",
       "      <td>2022-07-01 00:08:59</td>\n",
       "      <td>11</td>\n",
       "      <td>Suba</td>\n",
       "      <td>88</td>\n",
       "      <td>A¤os</td>\n",
       "      <td>FEMENINO</td>\n",
       "      <td>Norte</td>\n",
       "      <td>Accidente Cerebro Vascular</td>\n",
       "      <td>ALTA</td>\n",
       "      <td>2022-01-07 03:40:13</td>\n",
       "    </tr>\n",
       "    <tr>\n",
       "      <th>1</th>\n",
       "      <td>1</td>\n",
       "      <td>CRU-00278360-22</td>\n",
       "      <td>2022-07-01 00:14:58</td>\n",
       "      <td>11</td>\n",
       "      <td>Suba</td>\n",
       "      <td>16</td>\n",
       "      <td>A¤os</td>\n",
       "      <td>MASCULINO</td>\n",
       "      <td>Norte</td>\n",
       "      <td>Herido</td>\n",
       "      <td>ALTA</td>\n",
       "      <td>2022-01-07 03:38:13</td>\n",
       "    </tr>\n",
       "    <tr>\n",
       "      <th>2</th>\n",
       "      <td>2</td>\n",
       "      <td>CRU-00278365-22</td>\n",
       "      <td>2022-07-01 00:21:59</td>\n",
       "      <td>18</td>\n",
       "      <td>Rafael Uribe Uribe</td>\n",
       "      <td>52</td>\n",
       "      <td>A¤os</td>\n",
       "      <td>FEMENINO</td>\n",
       "      <td>Centro Oriente</td>\n",
       "      <td>Evento Respiratorio</td>\n",
       "      <td>CRITICA</td>\n",
       "      <td>2022-01-07 04:08:24</td>\n",
       "    </tr>\n",
       "    <tr>\n",
       "      <th>3</th>\n",
       "      <td>3</td>\n",
       "      <td>CRU-00278370-22</td>\n",
       "      <td>2022-07-01 00:38:38</td>\n",
       "      <td>19</td>\n",
       "      <td>Ciudad Bol¡var</td>\n",
       "      <td>SIN_DATO</td>\n",
       "      <td>SIN_DATO</td>\n",
       "      <td>SIN_DATO</td>\n",
       "      <td>Privada</td>\n",
       "      <td>Herido</td>\n",
       "      <td>ALTA</td>\n",
       "      <td>NaT</td>\n",
       "    </tr>\n",
       "    <tr>\n",
       "      <th>4</th>\n",
       "      <td>4</td>\n",
       "      <td>CRU-00278372-22</td>\n",
       "      <td>2022-07-01 00:53:32</td>\n",
       "      <td>1</td>\n",
       "      <td>Usaqun</td>\n",
       "      <td>33</td>\n",
       "      <td>A¤os</td>\n",
       "      <td>MASCULINO</td>\n",
       "      <td>Norte</td>\n",
       "      <td>Intento de Suicidio</td>\n",
       "      <td>ALTA</td>\n",
       "      <td>2022-01-07 03:25:29</td>\n",
       "    </tr>\n",
       "  </tbody>\n",
       "</table>\n",
       "</div>"
      ],
      "text/plain": [
       "   index NUMERO_INCIDENTE FECHA_INICIO_DESPLAZAMIENTO_MOVIL  CODIGO_LOCALIDAD  \\\n",
       "0      0  CRU-00278353-22               2022-07-01 00:08:59                11   \n",
       "1      1  CRU-00278360-22               2022-07-01 00:14:58                11   \n",
       "2      2  CRU-00278365-22               2022-07-01 00:21:59                18   \n",
       "3      3  CRU-00278370-22               2022-07-01 00:38:38                19   \n",
       "4      4  CRU-00278372-22               2022-07-01 00:53:32                 1   \n",
       "\n",
       "            LOCALIDAD      EDAD    UNIDAD     GENERO             RED  \\\n",
       "0                Suba        88      A¤os   FEMENINO           Norte   \n",
       "1                Suba        16      A¤os  MASCULINO           Norte   \n",
       "2  Rafael Uribe Uribe        52      A¤os   FEMENINO  Centro Oriente   \n",
       "3      Ciudad Bol¡var  SIN_DATO  SIN_DATO   SIN_DATO         Privada   \n",
       "4             Usaqun        33      A¤os  MASCULINO           Norte   \n",
       "\n",
       "               TIPO_INCIDENTE PRIORIDAD           RECEPCION  \n",
       "0  Accidente Cerebro Vascular      ALTA 2022-01-07 03:40:13  \n",
       "1                      Herido      ALTA 2022-01-07 03:38:13  \n",
       "2         Evento Respiratorio   CRITICA 2022-01-07 04:08:24  \n",
       "3                      Herido      ALTA                 NaT  \n",
       "4         Intento de Suicidio      ALTA 2022-01-07 03:25:29  "
      ]
     },
     "execution_count": 123,
     "metadata": {},
     "output_type": "execute_result"
    }
   ],
   "source": [
    "#Elimino la columna creada de correcion\n",
    "\n",
    "data = data.drop([\"RECEPCION_CORREGIDA\"], axis=1)\n",
    "data.head(5)\n"
   ]
  },
  {
   "cell_type": "markdown",
   "metadata": {},
   "source": [
    "# LIMPIEZA DE LA COLUMNA EDAD"
   ]
  },
  {
   "cell_type": "code",
   "execution_count": 124,
   "metadata": {},
   "outputs": [
    {
     "data": {
      "text/plain": [
       "SIN_DATO    6187\n",
       "23           150\n",
       "22           140\n",
       "30           134\n",
       "27           134\n",
       "            ... \n",
       "7             17\n",
       "98            16\n",
       "9             15\n",
       "8             14\n",
       "97            12\n",
       "Name: EDAD, Length: 100, dtype: int64"
      ]
     },
     "execution_count": 124,
     "metadata": {},
     "output_type": "execute_result"
    }
   ],
   "source": [
    "#Verificamos que datos tiene la columna edad\n",
    "\n",
    "data[\"EDAD\"].value_counts(dropna = False)"
   ]
  },
  {
   "cell_type": "code",
   "execution_count": 125,
   "metadata": {},
   "outputs": [
    {
     "data": {
      "text/plain": [
       "NaN    6187\n",
       "23      150\n",
       "22      140\n",
       "30      134\n",
       "27      134\n",
       "       ... \n",
       "7        17\n",
       "98       16\n",
       "9        15\n",
       "8        14\n",
       "97       12\n",
       "Name: EDAD, Length: 100, dtype: int64"
      ]
     },
     "execution_count": 125,
     "metadata": {},
     "output_type": "execute_result"
    }
   ],
   "source": [
    "#Reemplazamos los sin datos por valores nulos, para poder convertir la columna a tipo numerico\n",
    "\n",
    "data[\"EDAD\"] = data[\"EDAD\"].replace({\"SIN_DATO\": np.nan})\n",
    "data[\"EDAD\"].value_counts(dropna = False)"
   ]
  },
  {
   "cell_type": "code",
   "execution_count": 126,
   "metadata": {},
   "outputs": [
    {
     "name": "stdout",
     "output_type": "stream",
     "text": [
      "<class 'pandas.core.frame.DataFrame'>\n",
      "RangeIndex: 13026 entries, 0 to 13025\n",
      "Data columns (total 12 columns):\n",
      " #   Column                             Non-Null Count  Dtype         \n",
      "---  ------                             --------------  -----         \n",
      " 0   index                              13026 non-null  int64         \n",
      " 1   NUMERO_INCIDENTE                   13026 non-null  object        \n",
      " 2   FECHA_INICIO_DESPLAZAMIENTO_MOVIL  13025 non-null  datetime64[ns]\n",
      " 3   CODIGO_LOCALIDAD                   13026 non-null  int64         \n",
      " 4   LOCALIDAD                          13026 non-null  object        \n",
      " 5   EDAD                               6839 non-null   float64       \n",
      " 6   UNIDAD                             13026 non-null  object        \n",
      " 7   GENERO                             13026 non-null  object        \n",
      " 8   RED                                13026 non-null  object        \n",
      " 9   TIPO_INCIDENTE                     13026 non-null  object        \n",
      " 10  PRIORIDAD                          13026 non-null  object        \n",
      " 11  RECEPCION                          5259 non-null   datetime64[ns]\n",
      "dtypes: datetime64[ns](2), float64(1), int64(2), object(7)\n",
      "memory usage: 1.2+ MB\n"
     ]
    }
   ],
   "source": [
    "#Convertimos la columna a tipo numerico\n",
    "data[\"EDAD\"] = pd.to_numeric(data[\"EDAD\"], errors = \"coerce\")\n",
    "\n",
    "data.info()"
   ]
  },
  {
   "cell_type": "markdown",
   "metadata": {},
   "source": [
    "# LIMPIEZA DE DATOS EN COLUMNA LOCALIDAD"
   ]
  },
  {
   "cell_type": "code",
   "execution_count": 139,
   "metadata": {},
   "outputs": [
    {
     "data": {
      "text/plain": [
       "Kennedy               1740\n",
       "Suba                  1323\n",
       "Engativa              1304\n",
       "Bosa                  1065\n",
       "Ciudad Bolivar        1009\n",
       "Puente Aranda          742\n",
       "Fontibon               670\n",
       "Usaquen                667\n",
       "Rafael Uribe Uribe     601\n",
       "Usme                   597\n",
       "San Cristobal          595\n",
       "Chapinero              507\n",
       "Tunjuelito             391\n",
       "Barrios Unidos         389\n",
       "Los Martires           379\n",
       "Teusaquillo            361\n",
       "Santa Fe               356\n",
       "Antonio Nariño         244\n",
       "La Candelaria           85\n",
       "Sumapaz                  1\n",
       "Name: LOCALIDAD, dtype: int64"
      ]
     },
     "execution_count": 139,
     "metadata": {},
     "output_type": "execute_result"
    }
   ],
   "source": [
    "#Verificamos los datos provenientes de esta columna\n",
    "data[\"LOCALIDAD\"].value_counts(dropna = False)"
   ]
  },
  {
   "cell_type": "code",
   "execution_count": 138,
   "metadata": {},
   "outputs": [
    {
     "data": {
      "text/plain": [
       "Kennedy               1740\n",
       "Suba                  1323\n",
       "Engativa              1304\n",
       "Bosa                  1065\n",
       "Ciudad Bolivar        1009\n",
       "Puente Aranda          742\n",
       "Fontibon               670\n",
       "Usaquen                667\n",
       "Rafael Uribe Uribe     601\n",
       "Usme                   597\n",
       "San Cristobal          595\n",
       "Chapinero              507\n",
       "Tunjuelito             391\n",
       "Barrios Unidos         389\n",
       "Los Martires           379\n",
       "Teusaquillo            361\n",
       "Santa Fe               356\n",
       "Antonio Nariño         244\n",
       "La Candelaria           85\n",
       "Sumapaz                  1\n",
       "Name: LOCALIDAD, dtype: int64"
      ]
     },
     "execution_count": 138,
     "metadata": {},
     "output_type": "execute_result"
    }
   ],
   "source": [
    "#Reemplazo los valores que tienen caracteres especiales con su respectivo nombre\n",
    "data['LOCALIDAD']= data['LOCALIDAD'].replace(['Fontib¢n','Engativ ',\"Ciudad Bol¡var\",\"Usaqun\",\"San Crist¢bal\",\"Los M rtires\", \"Antonio Nari¤o\"],\n",
    "                                                 ['Fontibon','Engativa',\"Ciudad Bolivar\",\"Usaquen\",\"San Cristobal\", \"Los Martires\",\"Antonio Nariño\"])\n",
    "\n",
    "data[\"LOCALIDAD\"].value_counts(dropna = False)"
   ]
  },
  {
   "cell_type": "code",
   "execution_count": 140,
   "metadata": {},
   "outputs": [
    {
     "data": {
      "text/plain": [
       "A¤os        6781\n",
       "SIN_DATO    6195\n",
       "Meses         39\n",
       "Horas          6\n",
       "Dias           5\n",
       "Name: UNIDAD, dtype: int64"
      ]
     },
     "execution_count": 140,
     "metadata": {},
     "output_type": "execute_result"
    }
   ],
   "source": [
    "# Revisamos los datos de la columna aunidad\n",
    "data[\"UNIDAD\"].value_counts(dropna = False)"
   ]
  },
  {
   "cell_type": "code",
   "execution_count": 141,
   "metadata": {},
   "outputs": [
    {
     "data": {
      "text/plain": [
       "Años        6781\n",
       "SIN_DATO    6195\n",
       "Meses         39\n",
       "Horas          6\n",
       "Dias           5\n",
       "Name: UNIDAD, dtype: int64"
      ]
     },
     "execution_count": 141,
     "metadata": {},
     "output_type": "execute_result"
    }
   ],
   "source": [
    "#Reemplazo los valores que tienen caracteres especiales con su respectivo nombre\n",
    "data['UNIDAD']= data['UNIDAD'].replace([\"A¤os\"],\n",
    "                                        [\"Años\"])\n",
    "\n",
    "data[\"UNIDAD\"].value_counts(dropna = False)"
   ]
  }
 ],
 "metadata": {
  "kernelspec": {
   "display_name": "Python 3.10.4 64-bit",
   "language": "python",
   "name": "python3"
  },
  "language_info": {
   "codemirror_mode": {
    "name": "ipython",
    "version": 3
   },
   "file_extension": ".py",
   "mimetype": "text/x-python",
   "name": "python",
   "nbconvert_exporter": "python",
   "pygments_lexer": "ipython3",
   "version": "3.10.4"
  },
  "orig_nbformat": 4,
  "vscode": {
   "interpreter": {
    "hash": "3707f902887f3c35b5107292ebf7fa6efa447935186088e555e62ff297aaeb02"
   }
  }
 },
 "nbformat": 4,
 "nbformat_minor": 2
}
