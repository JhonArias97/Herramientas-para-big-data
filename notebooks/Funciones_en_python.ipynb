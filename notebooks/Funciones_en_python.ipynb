{
 "cells": [
  {
   "cell_type": "markdown",
   "metadata": {},
   "source": [
    "# Funciones en python"
   ]
  },
  {
   "cell_type": "code",
   "execution_count": null,
   "metadata": {},
   "outputs": [],
   "source": [
    "# Funcion f(x, y, z) = x + y + z\n",
    "\n",
    "def f(x, y, z);\n",
    "    resultado = x + y + z\n",
    "\n",
    "    return resultado\n",
    "a = \"hola\"\n",
    "b = \"chao\"\n"
   ]
  }
 ],
 "metadata": {
  "kernelspec": {
   "display_name": "Python 3.10.4 64-bit",
   "language": "python",
   "name": "python3"
  },
  "language_info": {
   "name": "python",
   "version": "3.10.4"
  },
  "orig_nbformat": 4,
  "vscode": {
   "interpreter": {
    "hash": "3707f902887f3c35b5107292ebf7fa6efa447935186088e555e62ff297aaeb02"
   }
  }
 },
 "nbformat": 4,
 "nbformat_minor": 2
}
